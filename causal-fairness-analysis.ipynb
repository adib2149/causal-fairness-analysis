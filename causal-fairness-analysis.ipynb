{
 "cells": [
  {
   "cell_type": "markdown",
   "id": "6ffc5e2b-e44c-4793-b339-31004645a790",
   "metadata": {},
   "source": [
    "# Causal Fairness Analysis\n",
    "\n",
    "In this tutorial, we will be exploring a causal fairness analysis, based ona. real-world dataset. Out theoretical framework would be Structural Theory of Causation and we will analyse based on existing work \"Causal Fairness Analysis\" by Plecko and Bareinboim (2022), and our own additional inferences. For test data, we will use ProPoblica COMPAS dataset. The eventual goal is to transform the idea for our own problem domain and dataset.\n",
    "\n",
    "We will generate a computational pipeline, present it theoretically and show the data analysis in parallel."
   ]
  },
  {
   "cell_type": "markdown",
   "id": "fc017e05-c72b-4bc6-8987-790fc9d6cad8",
   "metadata": {},
   "source": [
    "## Questions /concerns\n",
    "\n",
    "1. ***(RQ1)*** Bias Prevalence and Quantification\n",
    "    1.1 Is there a bias - bias prevalence\n",
    "    1.2 How to measure bias - bias quantification\n",
    "    \n",
    "2. ***(RQ2)*** Policy Adjustment for Bias Minimization \n",
    "    2.1 What policy recommendation for change required to minimize bias\n",
    "\n",
    "## Our pipeline\n",
    "1. Build a question: \n",
    "    1.1 Frame problem statement\n",
    "    1.2 Frame variables\n",
    "    1.3 Define structural causal model (SCM)\n",
    "    1.3 Define structural fairness model SFM (X, Y, Z, W)\n",
    "2. Answer causally: \n",
    "    2.1 Find answers to RQ1\n",
    "    2.2 Find answers to RQ2"
   ]
  },
  {
   "cell_type": "code",
   "execution_count": null,
   "id": "49706eab-7752-4144-b3c0-d73a56d0bc19",
   "metadata": {},
   "outputs": [],
   "source": []
  }
 ],
 "metadata": {
  "kernelspec": {
   "display_name": "Python 3 (ipykernel)",
   "language": "python",
   "name": "python3"
  },
  "language_info": {
   "codemirror_mode": {
    "name": "ipython",
    "version": 3
   },
   "file_extension": ".py",
   "mimetype": "text/x-python",
   "name": "python",
   "nbconvert_exporter": "python",
   "pygments_lexer": "ipython3",
   "version": "3.9.13"
  }
 },
 "nbformat": 4,
 "nbformat_minor": 5
}
