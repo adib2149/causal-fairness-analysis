{
 "cells": [
  {
   "cell_type": "markdown",
   "id": "7d52a47f-11d3-44f4-91f8-4af6587f7222",
   "metadata": {},
   "source": [
    "# Data Read"
   ]
  },
  {
   "cell_type": "code",
   "execution_count": 1,
   "id": "a339a4f5-7871-47ce-bd7a-fea74b20b125",
   "metadata": {},
   "outputs": [],
   "source": [
    "import pandas as pd"
   ]
  },
  {
   "cell_type": "code",
   "execution_count": 2,
   "id": "ed701356-bd0f-48ed-aace-2e5616d76140",
   "metadata": {},
   "outputs": [
    {
     "data": {
      "text/plain": [
       "(20000, 18)"
      ]
     },
     "execution_count": 2,
     "metadata": {},
     "output_type": "execute_result"
    }
   ],
   "source": [
    "census = pd.read_csv(\"https://raw.githubusercontent.com/dplecko/CFA/main/inst/extdata/census.csv\")\n",
    "census.shape"
   ]
  },
  {
   "cell_type": "code",
   "execution_count": 3,
   "id": "b1f48f5c-e5a8-4ea3-a948-9b64272d20a2",
   "metadata": {},
   "outputs": [
    {
     "data": {
      "text/html": [
       "<div>\n",
       "<style scoped>\n",
       "    .dataframe tbody tr th:only-of-type {\n",
       "        vertical-align: middle;\n",
       "    }\n",
       "\n",
       "    .dataframe tbody tr th {\n",
       "        vertical-align: top;\n",
       "    }\n",
       "\n",
       "    .dataframe thead th {\n",
       "        text-align: right;\n",
       "    }\n",
       "</style>\n",
       "<table border=\"1\" class=\"dataframe\">\n",
       "  <thead>\n",
       "    <tr style=\"text-align: right;\">\n",
       "      <th></th>\n",
       "      <th>Unnamed: 0</th>\n",
       "      <th>sex</th>\n",
       "      <th>age</th>\n",
       "      <th>race</th>\n",
       "      <th>hispanic_origin</th>\n",
       "      <th>citizenship</th>\n",
       "      <th>nativity</th>\n",
       "      <th>marital</th>\n",
       "      <th>family_size</th>\n",
       "      <th>children</th>\n",
       "      <th>education_level</th>\n",
       "      <th>english_level</th>\n",
       "      <th>salary</th>\n",
       "      <th>hours_worked</th>\n",
       "      <th>weeks_worked</th>\n",
       "      <th>occupation</th>\n",
       "      <th>industry</th>\n",
       "      <th>economic_region</th>\n",
       "    </tr>\n",
       "  </thead>\n",
       "  <tbody>\n",
       "    <tr>\n",
       "      <th>2718</th>\n",
       "      <td>2719</td>\n",
       "      <td>female</td>\n",
       "      <td>40</td>\n",
       "      <td>white</td>\n",
       "      <td>no</td>\n",
       "      <td>1</td>\n",
       "      <td>native</td>\n",
       "      <td>divorced</td>\n",
       "      <td>2</td>\n",
       "      <td>0</td>\n",
       "      <td>19</td>\n",
       "      <td>0</td>\n",
       "      <td>22000.0</td>\n",
       "      <td>14</td>\n",
       "      <td>49</td>\n",
       "      <td>43-5052</td>\n",
       "      <td>491</td>\n",
       "      <td>Plains</td>\n",
       "    </tr>\n",
       "    <tr>\n",
       "      <th>2626</th>\n",
       "      <td>2627</td>\n",
       "      <td>male</td>\n",
       "      <td>20</td>\n",
       "      <td>white</td>\n",
       "      <td>yes</td>\n",
       "      <td>5</td>\n",
       "      <td>foreign-born</td>\n",
       "      <td>never married</td>\n",
       "      <td>4</td>\n",
       "      <td>3</td>\n",
       "      <td>19</td>\n",
       "      <td>1</td>\n",
       "      <td>15000.0</td>\n",
       "      <td>20</td>\n",
       "      <td>49</td>\n",
       "      <td>25-2020</td>\n",
       "      <td>6111</td>\n",
       "      <td>Rocky Mountain</td>\n",
       "    </tr>\n",
       "    <tr>\n",
       "      <th>7880</th>\n",
       "      <td>7881</td>\n",
       "      <td>male</td>\n",
       "      <td>50</td>\n",
       "      <td>white</td>\n",
       "      <td>no</td>\n",
       "      <td>1</td>\n",
       "      <td>native</td>\n",
       "      <td>married</td>\n",
       "      <td>2</td>\n",
       "      <td>0</td>\n",
       "      <td>19</td>\n",
       "      <td>0</td>\n",
       "      <td>55000.0</td>\n",
       "      <td>40</td>\n",
       "      <td>49</td>\n",
       "      <td>11-3021</td>\n",
       "      <td>928P</td>\n",
       "      <td>Plains</td>\n",
       "    </tr>\n",
       "    <tr>\n",
       "      <th>17109</th>\n",
       "      <td>17110</td>\n",
       "      <td>female</td>\n",
       "      <td>58</td>\n",
       "      <td>black</td>\n",
       "      <td>no</td>\n",
       "      <td>1</td>\n",
       "      <td>native</td>\n",
       "      <td>divorced</td>\n",
       "      <td>2</td>\n",
       "      <td>0</td>\n",
       "      <td>19</td>\n",
       "      <td>0</td>\n",
       "      <td>30000.0</td>\n",
       "      <td>30</td>\n",
       "      <td>49</td>\n",
       "      <td>25-9040</td>\n",
       "      <td>6111</td>\n",
       "      <td>Mideast</td>\n",
       "    </tr>\n",
       "    <tr>\n",
       "      <th>19752</th>\n",
       "      <td>19753</td>\n",
       "      <td>female</td>\n",
       "      <td>29</td>\n",
       "      <td>other</td>\n",
       "      <td>yes</td>\n",
       "      <td>1</td>\n",
       "      <td>native</td>\n",
       "      <td>married</td>\n",
       "      <td>2</td>\n",
       "      <td>0</td>\n",
       "      <td>22</td>\n",
       "      <td>1</td>\n",
       "      <td>50000.0</td>\n",
       "      <td>40</td>\n",
       "      <td>39</td>\n",
       "      <td>25-2020</td>\n",
       "      <td>6111</td>\n",
       "      <td>Far West</td>\n",
       "    </tr>\n",
       "  </tbody>\n",
       "</table>\n",
       "</div>"
      ],
      "text/plain": [
       "       Unnamed: 0     sex  age   race hispanic_origin  citizenship  \\\n",
       "2718         2719  female   40  white              no            1   \n",
       "2626         2627    male   20  white             yes            5   \n",
       "7880         7881    male   50  white              no            1   \n",
       "17109       17110  female   58  black              no            1   \n",
       "19752       19753  female   29  other             yes            1   \n",
       "\n",
       "           nativity        marital  family_size  children  education_level  \\\n",
       "2718         native       divorced            2         0               19   \n",
       "2626   foreign-born  never married            4         3               19   \n",
       "7880         native        married            2         0               19   \n",
       "17109        native       divorced            2         0               19   \n",
       "19752        native        married            2         0               22   \n",
       "\n",
       "       english_level   salary  hours_worked  weeks_worked occupation industry  \\\n",
       "2718               0  22000.0            14            49    43-5052      491   \n",
       "2626               1  15000.0            20            49    25-2020     6111   \n",
       "7880               0  55000.0            40            49    11-3021     928P   \n",
       "17109              0  30000.0            30            49    25-9040     6111   \n",
       "19752              1  50000.0            40            39    25-2020     6111   \n",
       "\n",
       "      economic_region  \n",
       "2718           Plains  \n",
       "2626   Rocky Mountain  \n",
       "7880           Plains  \n",
       "17109         Mideast  \n",
       "19752        Far West  "
      ]
     },
     "execution_count": 3,
     "metadata": {},
     "output_type": "execute_result"
    }
   ],
   "source": [
    "census.sample(5)"
   ]
  },
  {
   "cell_type": "markdown",
   "id": "1407cfdd-9b50-430e-9ff9-f4a70ebeb527",
   "metadata": {},
   "source": [
    "# Observational Bias"
   ]
  },
  {
   "cell_type": "code",
   "execution_count": 4,
   "id": "ebc05bce-0d62-4c90-99f9-efd8970f5a80",
   "metadata": {},
   "outputs": [
    {
     "data": {
      "text/plain": [
       "14790.56742240479"
      ]
     },
     "execution_count": 4,
     "metadata": {},
     "output_type": "execute_result"
    }
   ],
   "source": [
    "# E(Y|X1) - E(Y|X2) aka E(salary | sex=male) - E(salary | sex=female)\n",
    "TV = census[census.sex == \"male\"].salary.mean() - census[census.sex == \"female\"].salary.mean()\n",
    "TV"
   ]
  },
  {
   "cell_type": "markdown",
   "id": "bf0a781d-01d8-419e-b37d-9c963fe1638c",
   "metadata": {},
   "source": [
    "**It means, there is a salary gap of ~$15k on average in between males and females.**"
   ]
  },
  {
   "cell_type": "markdown",
   "id": "a8255e60-ccf9-4b2b-b250-ee587473ed3e",
   "metadata": {},
   "source": [
    "# Adjusted Bias\n",
    "### We will use IPTW without deploying any causal model"
   ]
  },
  {
   "cell_type": "code",
   "execution_count": null,
   "id": "462da0b5-b4ae-4295-b4ee-f56d1a000209",
   "metadata": {},
   "outputs": [],
   "source": []
  },
  {
   "cell_type": "code",
   "execution_count": null,
   "id": "dad86359-3551-418d-958e-f4a64be970b9",
   "metadata": {},
   "outputs": [],
   "source": []
  },
  {
   "cell_type": "code",
   "execution_count": null,
   "id": "c6a55a9a-3b0e-48d5-919f-e55ed853de67",
   "metadata": {},
   "outputs": [],
   "source": []
  }
 ],
 "metadata": {
  "kernelspec": {
   "display_name": "Python 3 (ipykernel)",
   "language": "python",
   "name": "python3"
  },
  "language_info": {
   "codemirror_mode": {
    "name": "ipython",
    "version": 3
   },
   "file_extension": ".py",
   "mimetype": "text/x-python",
   "name": "python",
   "nbconvert_exporter": "python",
   "pygments_lexer": "ipython3",
   "version": "3.9.13"
  }
 },
 "nbformat": 4,
 "nbformat_minor": 5
}
